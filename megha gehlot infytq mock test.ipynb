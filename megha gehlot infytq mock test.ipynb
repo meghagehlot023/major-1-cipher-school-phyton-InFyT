{
 "cells": [
  {
   "cell_type": "markdown",
   "id": "3855fc06",
   "metadata": {},
   "source": [
    "## Megha Gehlot InfyTQ Mock Test"
   ]
  },
  {
   "cell_type": "markdown",
   "id": "ae343e53",
   "metadata": {},
   "source": [
    "## Question 1"
   ]
  },
  {
   "cell_type": "code",
   "execution_count": 1,
   "id": "768038a4",
   "metadata": {},
   "outputs": [
    {
     "name": "stdout",
     "output_type": "stream",
     "text": [
      "[0, 1]\n",
      "[1, 2]\n",
      "[0, 1]\n"
     ]
    }
   ],
   "source": [
    "def twoSum(nums, target):\n",
    "        lst=[]\n",
    "        for x in range(len(nums)):\n",
    "            for y in range(x+1,len(nums)):\n",
    "                if nums[x]+nums[y]==target:\n",
    "                    lst.extend([x,y])\n",
    "        lst=list(set(lst))\n",
    "        return lst\n",
    "\n",
    "print(twoSum([2,7,11,15],9))\n",
    "print(twoSum([3,2,4],6))\n",
    "print(twoSum([3,3],6))"
   ]
  },
  {
   "cell_type": "markdown",
   "id": "6f5bdbfe",
   "metadata": {},
   "source": [
    "## Question 2"
   ]
  },
  {
   "cell_type": "code",
   "execution_count": 3,
   "id": "085536de",
   "metadata": {},
   "outputs": [
    {
     "name": "stdout",
     "output_type": "stream",
     "text": [
      "5\n",
      "Harry\n",
      "37.21\n",
      "Berry\n",
      "37.21\n",
      "Tina\n",
      "37.2\n",
      "Akriti\n",
      "41\n",
      "Harsh\n",
      "39\n",
      "Berry\n",
      "Harry\n"
     ]
    }
   ],
   "source": [
    "N = int(input())\n",
    "\n",
    "students = []\n",
    "for i in range(2*N):\n",
    "    students.append(input().split())\n",
    "grades = {}\n",
    "for j in range(0, len(students), 2):\n",
    "    grades[students[j][0]] = float(students[j + 1][0])\n",
    "result = []\n",
    "num_to_match = sorted(set(grades.values()))[1]\n",
    "for pupil in grades.keys():\n",
    "    if grades[pupil] == num_to_match:\n",
    "        result.append(pupil)\n",
    "for k in sorted(result):\n",
    "    print( k)"
   ]
  }
 ],
 "metadata": {
  "kernelspec": {
   "display_name": "Python 3 (ipykernel)",
   "language": "python",
   "name": "python3"
  },
  "language_info": {
   "codemirror_mode": {
    "name": "ipython",
    "version": 3
   },
   "file_extension": ".py",
   "mimetype": "text/x-python",
   "name": "python",
   "nbconvert_exporter": "python",
   "pygments_lexer": "ipython3",
   "version": "3.9.7"
  }
 },
 "nbformat": 4,
 "nbformat_minor": 5
}
